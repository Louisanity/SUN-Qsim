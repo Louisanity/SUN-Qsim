{
 "cells": [
  {
   "attachments": {},
   "cell_type": "markdown",
   "metadata": {},
   "source": [
    "# Tutorial for sampling using Qiskit\n",
    "In this tutorial, we will look at tutorials of implementations using **Qiskit**. Participants are recommended to read the `sampling.ipynb` beforehand.\n",
    "\n",
    "In QURI Parts, there are codes to convert **Qiskit** circuits and operators to **QURI Parts**. When implementing with **Qiskit**, you can use these codes to use the provided sampling function with qiskit circuits and operators. Let's actually implement it."
   ]
  },
  {
   "attachments": {},
   "cell_type": "markdown",
   "metadata": {},
   "source": [
    "## ChallengeSampling"
   ]
  },
  {
   "cell_type": "code",
   "execution_count": 1,
   "metadata": {},
   "outputs": [
    {
     "name": "stderr",
     "output_type": "stream",
     "text": [
      "   Resolving package versions...\n",
      "  No Changes to `~/.julia/environments/pyjuliapkg/Project.toml`\n",
      "  No Changes to `~/.julia/environments/pyjuliapkg/Manifest.toml`\n"
     ]
    },
    {
     "name": "stdout",
     "output_type": "stream",
     "text": [
      "test mps sampling took: (24.355291843414307, Counter({2: 7, 0: 3}))\n"
     ]
    }
   ],
   "source": [
    "import sys\n",
    "\n",
    "sys.path.append(\"../\")\n",
    "from utils.challenge_2024 import ChallengeSampling\n",
    "\n",
    "# define challenge_sampling\n",
    "challenge_sampling = ChallengeSampling()"
   ]
  },
  {
   "attachments": {},
   "cell_type": "markdown",
   "metadata": {},
   "source": [
    "### Prepare a Qiskit circuit"
   ]
  },
  {
   "cell_type": "code",
   "execution_count": 2,
   "metadata": {},
   "outputs": [
    {
     "data": {
      "text/plain": [
       "<qiskit.circuit.instructionset.InstructionSet at 0x174f38130>"
      ]
     },
     "execution_count": 2,
     "metadata": {},
     "output_type": "execute_result"
    }
   ],
   "source": [
    "from qiskit import QuantumCircuit as QiskitQuantumCircuit\n",
    "from math import pi\n",
    "\n",
    "qiskit_circuit = QiskitQuantumCircuit(4)\n",
    "qiskit_circuit.x(0)\n",
    "qiskit_circuit.h(1)\n",
    "qiskit_circuit.y(2)\n",
    "qiskit_circuit.cx(1, 2)\n",
    "qiskit_circuit.rx(pi/4, 3)"
   ]
  },
  {
   "cell_type": "markdown",
   "metadata": {},
   "source": [
    "You can use `circuit_from_qiskit()` to convert the qiskit circuit to the quri-parts circuit as follows:"
   ]
  },
  {
   "cell_type": "code",
   "execution_count": 3,
   "metadata": {},
   "outputs": [],
   "source": [
    "from quri_parts.qiskit.circuit import circuit_from_qiskit\n",
    "\n",
    "quri_parts_circuit = circuit_from_qiskit(qiskit_circuit)"
   ]
  },
  {
   "attachments": {},
   "cell_type": "markdown",
   "metadata": {},
   "source": [
    "# Sampler\n",
    " By using the instance challenge_sampling, you can construct the sampler."
   ]
  },
  {
   "cell_type": "code",
   "execution_count": 4,
   "metadata": {},
   "outputs": [
    {
     "name": "stderr",
     "output_type": "stream",
     "text": [
      "   Resolving package versions...\n",
      "  No Changes to `~/.julia/environments/pyjuliapkg/Project.toml`\n",
      "  No Changes to `~/.julia/environments/pyjuliapkg/Manifest.toml`\n"
     ]
    },
    {
     "name": "stdout",
     "output_type": "stream",
     "text": [
      "counts: Counter({3: 439, 5: 411, 13: 85, 11: 65})\n"
     ]
    }
   ],
   "source": [
    "# create sampler\n",
    "sampler = challenge_sampling.create_sampler()\n",
    "# possible to choose Qiksit circuits as an input\n",
    "sampling_result = sampler(quri_parts_circuit, n_shots=1000)\n",
    "print(f\"counts: {sampling_result}\")"
   ]
  },
  {
   "attachments": {},
   "cell_type": "markdown",
   "metadata": {},
   "source": [
    "A sampler receives two arguments: a circuit to be sampled and a number of repeated samplings (shots). The returned value is a mapping (dict) with the following keys and values:\n",
    "\n",
    "- **Keys** Bitstrings of measurement outcomes, encoded as int. Each measured bit of each qubit are ordered from the least significant bit to the most significant bit. For example, when qubit 0 and qubit 2 are measured to be in  while the others are in , the bitstring is 0b0101.\n",
    "\n",
    "- **Values** Counts of times for which each bitstring is measured. A sum of all counts is equal to the specified shots."
   ]
  },
  {
   "attachments": {},
   "cell_type": "markdown",
   "metadata": {},
   "source": [
    "## Concurrent sampler\n",
    "The concurrent sampler can take Qiksit circuits as input as same as the usual sampler."
   ]
  },
  {
   "cell_type": "code",
   "execution_count": 5,
   "metadata": {},
   "outputs": [
    {
     "name": "stdout",
     "output_type": "stream",
     "text": [
      "concurrent_counts: [Counter({3: 447, 5: 427, 13: 68, 11: 58}), Counter({2: 434, 4: 422, 0: 73, 6: 71})]\n"
     ]
    },
    {
     "name": "stderr",
     "output_type": "stream",
     "text": [
      "   Resolving package versions...\n",
      "  No Changes to `~/.julia/environments/pyjuliapkg/Project.toml`\n",
      "  No Changes to `~/.julia/environments/pyjuliapkg/Manifest.toml`\n"
     ]
    }
   ],
   "source": [
    "# another circuit with 4 qubits\n",
    "qiskit_circuit2 = QiskitQuantumCircuit(4)\n",
    "qiskit_circuit2.t(0)\n",
    "qiskit_circuit2.h(1)\n",
    "qiskit_circuit2.ry(3*pi/4, 2)\n",
    "qiskit_circuit2.cx(1, 2)\n",
    "qiskit_circuit2.rz(pi, 3)\n",
    "\n",
    "quri_parts_circuit2 = circuit_from_qiskit(qiskit_circuit2)\n",
    "\n",
    "# create concurrent sampler\n",
    "concurrent_sampler = challenge_sampling.create_concurrent_sampler()\n",
    "concurrent_counts = concurrent_sampler([(quri_parts_circuit, 1000), (quri_parts_circuit2, 1000)])\n",
    "\n",
    "print(f\"concurrent_counts: {concurrent_counts}\")"
   ]
  },
  {
   "attachments": {},
   "cell_type": "markdown",
   "metadata": {},
   "source": [
    "# Sampling Estimator\n",
    "In order to estimate an expectation value of operators involves operators and states, you need to use a sampling_estimator. You can construct the concurrent sampler as same as the usual sampler with some additional inputs. \n",
    "\n",
    "The sampling_estimator can take Qiksit circuits and Qiskit operators as inputs. First we define a qiskit operator to be estimated."
   ]
  },
  {
   "cell_type": "code",
   "execution_count": 6,
   "metadata": {},
   "outputs": [
    {
     "name": "stdout",
     "output_type": "stream",
     "text": [
      "0.25 * ZIII\n",
      "+ 2.0 * IZZI\n",
      "+ (0.5+0.25j) * IXXI\n",
      "+ 1j * IZIY\n",
      "+ (1.5+0.5j) * IIZY\n",
      "+ 2j * IXIY\n",
      "+ 3.0 * IIII\n"
     ]
    },
    {
     "name": "stderr",
     "output_type": "stream",
     "text": [
      "/var/folders/vd/q1zmkbt90l9fsys7lk9sbbhm0000gn/T/ipykernel_16553/1631192179.py:6: DeprecationWarning: The class ``qiskit.opflow.primitive_ops.pauli_sum_op.PauliSumOp`` is deprecated as of qiskit-terra 0.24.0. It will be removed no earlier than 3 months after the release date. For code migration guidelines, visit https://qisk.it/opflow_migration.\n",
      "  qiskit_paulisumop = PauliSumOp(primitive=SparsePauliOp(Pauli(\"ZIII\")), coeff=0.25)\n",
      "/var/folders/vd/q1zmkbt90l9fsys7lk9sbbhm0000gn/T/ipykernel_16553/1631192179.py:7: DeprecationWarning: The class ``qiskit.opflow.primitive_ops.pauli_sum_op.PauliSumOp`` is deprecated as of qiskit-terra 0.24.0. It will be removed no earlier than 3 months after the release date. For code migration guidelines, visit https://qisk.it/opflow_migration.\n",
      "  qiskit_paulisumop += PauliSumOp(primitive=SparsePauliOp(Pauli(\"IZZI\")), coeff=2.0)\n",
      "/var/folders/vd/q1zmkbt90l9fsys7lk9sbbhm0000gn/T/ipykernel_16553/1631192179.py:8: DeprecationWarning: The class ``qiskit.opflow.primitive_ops.pauli_sum_op.PauliSumOp`` is deprecated as of qiskit-terra 0.24.0. It will be removed no earlier than 3 months after the release date. For code migration guidelines, visit https://qisk.it/opflow_migration.\n",
      "  qiskit_paulisumop += PauliSumOp(primitive=SparsePauliOp(Pauli(\"IXXI\")), coeff=0.5 + 0.25j)\n",
      "/var/folders/vd/q1zmkbt90l9fsys7lk9sbbhm0000gn/T/ipykernel_16553/1631192179.py:9: DeprecationWarning: The class ``qiskit.opflow.primitive_ops.pauli_sum_op.PauliSumOp`` is deprecated as of qiskit-terra 0.24.0. It will be removed no earlier than 3 months after the release date. For code migration guidelines, visit https://qisk.it/opflow_migration.\n",
      "  qiskit_paulisumop += PauliSumOp(primitive=SparsePauliOp(Pauli(\"IZIY\")), coeff=1.0j)\n",
      "/var/folders/vd/q1zmkbt90l9fsys7lk9sbbhm0000gn/T/ipykernel_16553/1631192179.py:10: DeprecationWarning: The class ``qiskit.opflow.primitive_ops.pauli_sum_op.PauliSumOp`` is deprecated as of qiskit-terra 0.24.0. It will be removed no earlier than 3 months after the release date. For code migration guidelines, visit https://qisk.it/opflow_migration.\n",
      "  qiskit_paulisumop += PauliSumOp(primitive=SparsePauliOp(Pauli(\"IIZY\")), coeff=1.5 + 0.5j)\n",
      "/var/folders/vd/q1zmkbt90l9fsys7lk9sbbhm0000gn/T/ipykernel_16553/1631192179.py:11: DeprecationWarning: The class ``qiskit.opflow.primitive_ops.pauli_sum_op.PauliSumOp`` is deprecated as of qiskit-terra 0.24.0. It will be removed no earlier than 3 months after the release date. For code migration guidelines, visit https://qisk.it/opflow_migration.\n",
      "  qiskit_paulisumop += PauliSumOp(primitive=SparsePauliOp(Pauli(\"IXIY\")), coeff=2.0j)\n",
      "/var/folders/vd/q1zmkbt90l9fsys7lk9sbbhm0000gn/T/ipykernel_16553/1631192179.py:12: DeprecationWarning: The class ``qiskit.opflow.primitive_ops.pauli_sum_op.PauliSumOp`` is deprecated as of qiskit-terra 0.24.0. It will be removed no earlier than 3 months after the release date. For code migration guidelines, visit https://qisk.it/opflow_migration.\n",
      "  qiskit_paulisumop += PauliSumOp(primitive=SparsePauliOp(Pauli(\"IIII\")), coeff=3.0)\n"
     ]
    }
   ],
   "source": [
    "# define a qiskit operator to be estimated\n",
    "from qiskit.quantum_info import Pauli, SparsePauliOp\n",
    "from qiskit.opflow import PauliSumOp\n",
    "\n",
    "\n",
    "qiskit_paulisumop = PauliSumOp(primitive=SparsePauliOp(Pauli(\"ZIII\")), coeff=0.25)\n",
    "qiskit_paulisumop += PauliSumOp(primitive=SparsePauliOp(Pauli(\"IZZI\")), coeff=2.0)\n",
    "qiskit_paulisumop += PauliSumOp(primitive=SparsePauliOp(Pauli(\"IXXI\")), coeff=0.5 + 0.25j)\n",
    "qiskit_paulisumop += PauliSumOp(primitive=SparsePauliOp(Pauli(\"IZIY\")), coeff=1.0j)\n",
    "qiskit_paulisumop += PauliSumOp(primitive=SparsePauliOp(Pauli(\"IIZY\")), coeff=1.5 + 0.5j)\n",
    "qiskit_paulisumop += PauliSumOp(primitive=SparsePauliOp(Pauli(\"IXIY\")), coeff=2.0j)\n",
    "qiskit_paulisumop += PauliSumOp(primitive=SparsePauliOp(Pauli(\"IIII\")), coeff=3.0)\n",
    "print(qiskit_paulisumop)"
   ]
  },
  {
   "cell_type": "markdown",
   "metadata": {},
   "source": [
    "You can use `operator_from_qiskit_op()` to convert the qiskit operator to the quri-parts operator as follows:"
   ]
  },
  {
   "cell_type": "code",
   "execution_count": 7,
   "metadata": {},
   "outputs": [],
   "source": [
    "from quri_parts.qiskit.operator import operator_from_qiskit_op\n",
    "\n",
    "quri_parts_operator = operator_from_qiskit_op(qiskit_paulisumop)"
   ]
  },
  {
   "attachments": {},
   "cell_type": "markdown",
   "metadata": {},
   "source": [
    "### Estimate expectation value by sampling\n",
    "With these inputs and qiskit operators and qiskit circuits, sampling estimation can be performed as follows:"
   ]
  },
  {
   "cell_type": "code",
   "execution_count": 8,
   "metadata": {},
   "outputs": [
    {
     "name": "stdout",
     "output_type": "stream",
     "text": [
      "estimated_value :1.2428 \n"
     ]
    }
   ],
   "source": [
    "from quri_parts.core.measurement import bitwise_commuting_pauli_measurement\n",
    "from quri_parts.core.sampling.shots_allocator import create_equipartition_shots_allocator\n",
    "from quri_parts.core.state import GeneralCircuitQuantumState\n",
    "\n",
    "shots_allocator = create_equipartition_shots_allocator()\n",
    "measurement_factory = bitwise_commuting_pauli_measurement\n",
    "\n",
    "circuit_state = GeneralCircuitQuantumState(4, quri_parts_circuit)\n",
    "\n",
    "# create estimator\n",
    "estimator = challenge_sampling.create_sampling_estimator(\n",
    "    n_shots=10000,\n",
    "    measurement_factory=measurement_factory,\n",
    "    shots_allocator=shots_allocator,\n",
    ")\n",
    "\n",
    "# estimate the expectation value\n",
    "estimated_value = estimator(quri_parts_operator, circuit_state)\n",
    "\n",
    "# returns real part of estimated value\n",
    "print(f\"estimated_value :{estimated_value.value.real} \")"
   ]
  }
 ],
 "metadata": {
  "kernelspec": {
   "display_name": "Python 3",
   "language": "python",
   "name": "python3"
  },
  "language_info": {
   "codemirror_mode": {
    "name": "ipython",
    "version": 3
   },
   "file_extension": ".py",
   "mimetype": "text/x-python",
   "name": "python",
   "nbconvert_exporter": "python",
   "pygments_lexer": "ipython3",
   "version": "3.9.8"
  },
  "orig_nbformat": 4
 },
 "nbformat": 4,
 "nbformat_minor": 2
}
