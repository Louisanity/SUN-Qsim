{
 "cells": [
  {
   "attachments": {},
   "cell_type": "markdown",
   "metadata": {},
   "source": [
    "# Tutorial for sampling using Braket\n",
    "In this tutorial, we will look at tutorials of implementations using **Braket**. Participants are recommended to read the `sampling.ipynb` beforehand.\n",
    "\n",
    "In QURI Parts, there are codes to convert **Braket** circuits to **QURI Parts**. When implementing with **Braket**, you can use these codes to use the provided sampling function with braket circuits and operators. Let's actually implement it."
   ]
  },
  {
   "attachments": {},
   "cell_type": "markdown",
   "metadata": {},
   "source": [
    "## ChallengeSampling"
   ]
  },
  {
   "cell_type": "code",
   "execution_count": 1,
   "metadata": {},
   "outputs": [
    {
     "name": "stderr",
     "output_type": "stream",
     "text": [
      "   Resolving package versions...\n",
      "  No Changes to `~/.julia/environments/pyjuliapkg/Project.toml`\n",
      "  No Changes to `~/.julia/environments/pyjuliapkg/Manifest.toml`\n"
     ]
    },
    {
     "name": "stdout",
     "output_type": "stream",
     "text": [
      "test mps sampling took: (26.276637077331543, Counter({0: 7, 2: 3}))\n"
     ]
    }
   ],
   "source": [
    "import sys\n",
    "\n",
    "sys.path.append(\"../\")\n",
    "from utils.challenge_2024 import ChallengeSampling\n",
    "\n",
    "# define challenge_sampling\n",
    "challenge_sampling = ChallengeSampling()"
   ]
  },
  {
   "attachments": {},
   "cell_type": "markdown",
   "metadata": {},
   "source": [
    "### Prepare a Braket circuit"
   ]
  },
  {
   "cell_type": "code",
   "execution_count": 2,
   "metadata": {},
   "outputs": [],
   "source": [
    "from braket.circuits import Circuit\n",
    "from math import pi\n",
    "\n",
    "braket_circuit = (\n",
    "    Circuit()\n",
    "    .x(0)\n",
    "    .h(1)\n",
    "    .y(2)\n",
    "    .cnot(1, 2)\n",
    "    .rx(3, pi/4)\n",
    ")"
   ]
  },
  {
   "cell_type": "markdown",
   "metadata": {},
   "source": [
    "You can use `circuit_from_braket()` to convert the braket circuit to the quri-parts circuit as follows:"
   ]
  },
  {
   "cell_type": "code",
   "execution_count": 3,
   "metadata": {},
   "outputs": [],
   "source": [
    "from quri_parts.braket.circuit import circuit_from_braket\n",
    "\n",
    "quri_parts_circuit = circuit_from_braket(braket_circuit)"
   ]
  },
  {
   "attachments": {},
   "cell_type": "markdown",
   "metadata": {},
   "source": [
    "# Sampler\n",
    "Then you can use the sampler in the same way as in quri-parts case."
   ]
  },
  {
   "cell_type": "code",
   "execution_count": 4,
   "metadata": {},
   "outputs": [
    {
     "name": "stdout",
     "output_type": "stream",
     "text": [
      "counts: Counter({3: 445, 5: 423, 13: 78, 11: 54})\n"
     ]
    }
   ],
   "source": [
    "# create sampler\n",
    "sampler = challenge_sampling.create_sampler()\n",
    "\n",
    "# sampling with the converted circuit\n",
    "sampling_result = sampler(quri_parts_circuit, n_shots=1000)\n",
    "print(f\"counts: {sampling_result}\")"
   ]
  }
 ],
 "metadata": {
  "kernelspec": {
   "display_name": "Python 3",
   "language": "python",
   "name": "python3"
  },
  "language_info": {
   "codemirror_mode": {
    "name": "ipython",
    "version": 3
   },
   "file_extension": ".py",
   "mimetype": "text/x-python",
   "name": "python",
   "nbconvert_exporter": "python",
   "pygments_lexer": "ipython3",
   "version": "3.9.8"
  },
  "orig_nbformat": 4
 },
 "nbformat": 4,
 "nbformat_minor": 2
}
