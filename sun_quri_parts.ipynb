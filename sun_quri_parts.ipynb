{
 "cells": [
  {
   "cell_type": "code",
   "execution_count": 14,
   "id": "7ca01710-0b7a-485a-98fe-dcdff2eb8494",
   "metadata": {
    "tags": []
   },
   "outputs": [
    {
     "name": "stdout",
     "output_type": "stream",
     "text": [
      "Requirement already satisfied: juliacall in /home/ec2-user/anaconda3/envs/Braket/lib/python3.10/site-packages (0.9.20)\n",
      "Requirement already satisfied: juliapkg~=0.1.8 in /home/ec2-user/anaconda3/envs/Braket/lib/python3.10/site-packages (from juliacall) (0.1.13)\n",
      "Requirement already satisfied: semver~=3.0 in /home/ec2-user/anaconda3/envs/Braket/lib/python3.10/site-packages (from juliapkg~=0.1.8->juliacall) (3.0.2)\n",
      "Note: you may need to restart the kernel to use updated packages.\n"
     ]
    }
   ],
   "source": [
    "pip install juliacall"
   ]
  },
  {
   "cell_type": "code",
   "execution_count": 2,
   "id": "5060e14e-3a3b-4b5e-b637-b3c61f8f1464",
   "metadata": {
    "tags": []
   },
   "outputs": [
    {
     "name": "stdout",
     "output_type": "stream",
     "text": [
      "Requirement already satisfied: quri-parts in /home/ec2-user/anaconda3/envs/Braket/lib/python3.10/site-packages (0.18.1)\n",
      "Requirement already satisfied: quri-parts-algo in /home/ec2-user/anaconda3/envs/Braket/lib/python3.10/site-packages (from quri-parts) (0.18.1)\n",
      "Requirement already satisfied: quri-parts-chem in /home/ec2-user/anaconda3/envs/Braket/lib/python3.10/site-packages (from quri-parts) (0.18.1)\n",
      "Requirement already satisfied: quri-parts-circuit in /home/ec2-user/anaconda3/envs/Braket/lib/python3.10/site-packages (from quri-parts) (0.18.1)\n",
      "Requirement already satisfied: quri-parts-core in /home/ec2-user/anaconda3/envs/Braket/lib/python3.10/site-packages (from quri-parts) (0.18.1)\n",
      "Requirement already satisfied: scipy<2.0.0,>=1.9.1 in /home/ec2-user/anaconda3/envs/Braket/lib/python3.10/site-packages (from quri-parts-algo->quri-parts) (1.13.1)\n",
      "Requirement already satisfied: typing-extensions<5.0.0,>=4.1.1 in /home/ec2-user/anaconda3/envs/Braket/lib/python3.10/site-packages (from quri-parts-algo->quri-parts) (4.12.0)\n",
      "Requirement already satisfied: numpy>=1.22.0 in /home/ec2-user/anaconda3/envs/Braket/lib/python3.10/site-packages (from quri-parts-circuit->quri-parts) (1.26.4)\n",
      "Note: you may need to restart the kernel to use updated packages.\n"
     ]
    }
   ],
   "source": [
    "pip install quri-parts"
   ]
  },
  {
   "cell_type": "code",
   "execution_count": 3,
   "id": "0b96eb6a-c8c9-4eb1-921f-ef1e8271df54",
   "metadata": {
    "tags": []
   },
   "outputs": [
    {
     "name": "stdout",
     "output_type": "stream",
     "text": [
      "Requirement already satisfied: quri-parts-itensor in /home/ec2-user/anaconda3/envs/Braket/lib/python3.10/site-packages (0.18.1)\n",
      "Requirement already satisfied: juliacall<0.10.0,>=0.9.12 in /home/ec2-user/anaconda3/envs/Braket/lib/python3.10/site-packages (from quri-parts-itensor) (0.9.20)\n",
      "Requirement already satisfied: quri-parts-circuit in /home/ec2-user/anaconda3/envs/Braket/lib/python3.10/site-packages (from quri-parts-itensor) (0.18.1)\n",
      "Requirement already satisfied: quri-parts-core in /home/ec2-user/anaconda3/envs/Braket/lib/python3.10/site-packages (from quri-parts-itensor) (0.18.1)\n",
      "Requirement already satisfied: juliapkg~=0.1.8 in /home/ec2-user/anaconda3/envs/Braket/lib/python3.10/site-packages (from juliacall<0.10.0,>=0.9.12->quri-parts-itensor) (0.1.13)\n",
      "Requirement already satisfied: numpy>=1.22.0 in /home/ec2-user/anaconda3/envs/Braket/lib/python3.10/site-packages (from quri-parts-circuit->quri-parts-itensor) (1.26.4)\n",
      "Requirement already satisfied: typing-extensions<5.0.0,>=4.1.1 in /home/ec2-user/anaconda3/envs/Braket/lib/python3.10/site-packages (from quri-parts-circuit->quri-parts-itensor) (4.12.0)\n",
      "Requirement already satisfied: scipy<2.0.0,>=1.11.3 in /home/ec2-user/anaconda3/envs/Braket/lib/python3.10/site-packages (from quri-parts-core->quri-parts-itensor) (1.13.1)\n",
      "Requirement already satisfied: semver~=3.0 in /home/ec2-user/anaconda3/envs/Braket/lib/python3.10/site-packages (from juliapkg~=0.1.8->juliacall<0.10.0,>=0.9.12->quri-parts-itensor) (3.0.2)\n",
      "Note: you may need to restart the kernel to use updated packages.\n"
     ]
    }
   ],
   "source": [
    "pip install quri-parts-itensor"
   ]
  },
  {
   "cell_type": "code",
   "execution_count": 4,
   "id": "fb99d537-e932-4a60-b778-d8458b7fa2f7",
   "metadata": {
    "tags": []
   },
   "outputs": [
    {
     "name": "stdout",
     "output_type": "stream",
     "text": [
      "Requirement already satisfied: quri-parts-qiskit in /home/ec2-user/anaconda3/envs/Braket/lib/python3.10/site-packages (0.18.1)\n",
      "Requirement already satisfied: networkx in /home/ec2-user/anaconda3/envs/Braket/lib/python3.10/site-packages (from quri-parts-qiskit) (3.3)\n",
      "Requirement already satisfied: numpy>=1.22.0 in /home/ec2-user/anaconda3/envs/Braket/lib/python3.10/site-packages (from quri-parts-qiskit) (1.26.4)\n",
      "Requirement already satisfied: pydantic<3.0.0,>=2.0.0 in /home/ec2-user/anaconda3/envs/Braket/lib/python3.10/site-packages (from quri-parts-qiskit) (2.7.2)\n",
      "Requirement already satisfied: qiskit<1,>=0.41.1 in /home/ec2-user/anaconda3/envs/Braket/lib/python3.10/site-packages (from quri-parts-qiskit) (0.46.1)\n",
      "Requirement already satisfied: qiskit-ibm-runtime<1,>=0.9.0 in /home/ec2-user/anaconda3/envs/Braket/lib/python3.10/site-packages (from quri-parts-qiskit) (0.20.0)\n",
      "Requirement already satisfied: quri-parts-circuit in /home/ec2-user/anaconda3/envs/Braket/lib/python3.10/site-packages (from quri-parts-qiskit) (0.18.1)\n",
      "Requirement already satisfied: quri-parts-core in /home/ec2-user/anaconda3/envs/Braket/lib/python3.10/site-packages (from quri-parts-qiskit) (0.18.1)\n",
      "Requirement already satisfied: annotated-types>=0.4.0 in /home/ec2-user/anaconda3/envs/Braket/lib/python3.10/site-packages (from pydantic<3.0.0,>=2.0.0->quri-parts-qiskit) (0.7.0)\n",
      "Requirement already satisfied: pydantic-core==2.18.3 in /home/ec2-user/anaconda3/envs/Braket/lib/python3.10/site-packages (from pydantic<3.0.0,>=2.0.0->quri-parts-qiskit) (2.18.3)\n",
      "Requirement already satisfied: typing-extensions>=4.6.1 in /home/ec2-user/anaconda3/envs/Braket/lib/python3.10/site-packages (from pydantic<3.0.0,>=2.0.0->quri-parts-qiskit) (4.12.0)\n",
      "Requirement already satisfied: qiskit-terra==0.46.1 in /home/ec2-user/anaconda3/envs/Braket/lib/python3.10/site-packages (from qiskit<1,>=0.41.1->quri-parts-qiskit) (0.46.1)\n",
      "Requirement already satisfied: rustworkx>=0.13.0 in /home/ec2-user/anaconda3/envs/Braket/lib/python3.10/site-packages (from qiskit-terra==0.46.1->qiskit<1,>=0.41.1->quri-parts-qiskit) (0.14.2)\n",
      "Requirement already satisfied: ply>=3.10 in /home/ec2-user/anaconda3/envs/Braket/lib/python3.10/site-packages (from qiskit-terra==0.46.1->qiskit<1,>=0.41.1->quri-parts-qiskit) (3.11)\n",
      "Requirement already satisfied: psutil>=5 in /home/ec2-user/anaconda3/envs/Braket/lib/python3.10/site-packages (from qiskit-terra==0.46.1->qiskit<1,>=0.41.1->quri-parts-qiskit) (5.9.8)\n",
      "Requirement already satisfied: scipy>=1.5 in /home/ec2-user/anaconda3/envs/Braket/lib/python3.10/site-packages (from qiskit-terra==0.46.1->qiskit<1,>=0.41.1->quri-parts-qiskit) (1.13.1)\n",
      "Requirement already satisfied: sympy>=1.3 in /home/ec2-user/anaconda3/envs/Braket/lib/python3.10/site-packages (from qiskit-terra==0.46.1->qiskit<1,>=0.41.1->quri-parts-qiskit) (1.12.1)\n",
      "Requirement already satisfied: dill>=0.3 in /home/ec2-user/anaconda3/envs/Braket/lib/python3.10/site-packages (from qiskit-terra==0.46.1->qiskit<1,>=0.41.1->quri-parts-qiskit) (0.3.8)\n",
      "Requirement already satisfied: python-dateutil>=2.8.0 in /home/ec2-user/anaconda3/envs/Braket/lib/python3.10/site-packages (from qiskit-terra==0.46.1->qiskit<1,>=0.41.1->quri-parts-qiskit) (2.9.0.post0)\n",
      "Requirement already satisfied: stevedore>=3.0.0 in /home/ec2-user/anaconda3/envs/Braket/lib/python3.10/site-packages (from qiskit-terra==0.46.1->qiskit<1,>=0.41.1->quri-parts-qiskit) (5.2.0)\n",
      "Requirement already satisfied: symengine>=0.11 in /home/ec2-user/anaconda3/envs/Braket/lib/python3.10/site-packages (from qiskit-terra==0.46.1->qiskit<1,>=0.41.1->quri-parts-qiskit) (0.11.0)\n",
      "Requirement already satisfied: requests>=2.19 in /home/ec2-user/anaconda3/envs/Braket/lib/python3.10/site-packages (from qiskit-ibm-runtime<1,>=0.9.0->quri-parts-qiskit) (2.32.2)\n",
      "Requirement already satisfied: requests-ntlm>=1.1.0 in /home/ec2-user/anaconda3/envs/Braket/lib/python3.10/site-packages (from qiskit-ibm-runtime<1,>=0.9.0->quri-parts-qiskit) (1.3.0)\n",
      "Requirement already satisfied: urllib3>=1.21.1 in /home/ec2-user/anaconda3/envs/Braket/lib/python3.10/site-packages (from qiskit-ibm-runtime<1,>=0.9.0->quri-parts-qiskit) (2.2.1)\n",
      "Requirement already satisfied: websocket-client>=1.5.1 in /home/ec2-user/anaconda3/envs/Braket/lib/python3.10/site-packages (from qiskit-ibm-runtime<1,>=0.9.0->quri-parts-qiskit) (1.8.0)\n",
      "Requirement already satisfied: ibm-platform-services>=0.22.6 in /home/ec2-user/anaconda3/envs/Braket/lib/python3.10/site-packages (from qiskit-ibm-runtime<1,>=0.9.0->quri-parts-qiskit) (0.53.7)\n",
      "Requirement already satisfied: ibm-cloud-sdk-core<4.0.0,>=3.19.2 in /home/ec2-user/anaconda3/envs/Braket/lib/python3.10/site-packages (from ibm-platform-services>=0.22.6->qiskit-ibm-runtime<1,>=0.9.0->quri-parts-qiskit) (3.20.1)\n",
      "Requirement already satisfied: six>=1.5 in /home/ec2-user/anaconda3/envs/Braket/lib/python3.10/site-packages (from python-dateutil>=2.8.0->qiskit-terra==0.46.1->qiskit<1,>=0.41.1->quri-parts-qiskit) (1.16.0)\n",
      "Requirement already satisfied: charset-normalizer<4,>=2 in /home/ec2-user/anaconda3/envs/Braket/lib/python3.10/site-packages (from requests>=2.19->qiskit-ibm-runtime<1,>=0.9.0->quri-parts-qiskit) (3.3.2)\n",
      "Requirement already satisfied: idna<4,>=2.5 in /home/ec2-user/anaconda3/envs/Braket/lib/python3.10/site-packages (from requests>=2.19->qiskit-ibm-runtime<1,>=0.9.0->quri-parts-qiskit) (3.7)\n",
      "Requirement already satisfied: certifi>=2017.4.17 in /home/ec2-user/anaconda3/envs/Braket/lib/python3.10/site-packages (from requests>=2.19->qiskit-ibm-runtime<1,>=0.9.0->quri-parts-qiskit) (2024.2.2)\n",
      "Requirement already satisfied: cryptography>=1.3 in /home/ec2-user/anaconda3/envs/Braket/lib/python3.10/site-packages (from requests-ntlm>=1.1.0->qiskit-ibm-runtime<1,>=0.9.0->quri-parts-qiskit) (42.0.8)\n",
      "Requirement already satisfied: pyspnego>=0.4.0 in /home/ec2-user/anaconda3/envs/Braket/lib/python3.10/site-packages (from requests-ntlm>=1.1.0->qiskit-ibm-runtime<1,>=0.9.0->quri-parts-qiskit) (0.11.0)\n",
      "Requirement already satisfied: cffi>=1.12 in /home/ec2-user/anaconda3/envs/Braket/lib/python3.10/site-packages (from cryptography>=1.3->requests-ntlm>=1.1.0->qiskit-ibm-runtime<1,>=0.9.0->quri-parts-qiskit) (1.16.0)\n",
      "Requirement already satisfied: PyJWT<3.0.0,>=2.8.0 in /home/ec2-user/anaconda3/envs/Braket/lib/python3.10/site-packages (from ibm-cloud-sdk-core<4.0.0,>=3.19.2->ibm-platform-services>=0.22.6->qiskit-ibm-runtime<1,>=0.9.0->quri-parts-qiskit) (2.8.0)\n",
      "Requirement already satisfied: pbr!=2.1.0,>=2.0.0 in /home/ec2-user/anaconda3/envs/Braket/lib/python3.10/site-packages (from stevedore>=3.0.0->qiskit-terra==0.46.1->qiskit<1,>=0.41.1->quri-parts-qiskit) (6.0.0)\n",
      "Requirement already satisfied: mpmath<1.4.0,>=1.1.0 in /home/ec2-user/anaconda3/envs/Braket/lib/python3.10/site-packages (from sympy>=1.3->qiskit-terra==0.46.1->qiskit<1,>=0.41.1->quri-parts-qiskit) (1.3.0)\n",
      "Requirement already satisfied: pycparser in /home/ec2-user/anaconda3/envs/Braket/lib/python3.10/site-packages (from cffi>=1.12->cryptography>=1.3->requests-ntlm>=1.1.0->qiskit-ibm-runtime<1,>=0.9.0->quri-parts-qiskit) (2.22)\n",
      "Note: you may need to restart the kernel to use updated packages.\n"
     ]
    }
   ],
   "source": [
    "pip install quri-parts-qiskit"
   ]
  },
  {
   "cell_type": "code",
   "execution_count": 9,
   "id": "2a028707-8809-4c21-b78f-7529f1d4d96c",
   "metadata": {
    "tags": []
   },
   "outputs": [
    {
     "name": "stdout",
     "output_type": "stream",
     "text": [
      "Collecting quri-parts-openfermion\n",
      "  Downloading quri_parts_openfermion-0.18.1-py3-none-any.whl.metadata (1.2 kB)\n",
      "Requirement already satisfied: openfermion<2.0.0,>=1.5.1 in /home/ec2-user/anaconda3/envs/Braket/lib/python3.10/site-packages (from quri-parts-openfermion) (1.6.1)\n",
      "Requirement already satisfied: quri-parts-chem in /home/ec2-user/anaconda3/envs/Braket/lib/python3.10/site-packages (from quri-parts-openfermion) (0.18.1)\n",
      "Requirement already satisfied: quri-parts-core in /home/ec2-user/anaconda3/envs/Braket/lib/python3.10/site-packages (from quri-parts-openfermion) (0.18.1)\n",
      "Requirement already satisfied: typing-extensions<5.0.0,>=4.1.1 in /home/ec2-user/anaconda3/envs/Braket/lib/python3.10/site-packages (from quri-parts-openfermion) (4.12.0)\n",
      "Requirement already satisfied: cirq-core~=1.0 in /home/ec2-user/anaconda3/envs/Braket/lib/python3.10/site-packages (from openfermion<2.0.0,>=1.5.1->quri-parts-openfermion) (1.3.0)\n",
      "Requirement already satisfied: deprecation in /home/ec2-user/anaconda3/envs/Braket/lib/python3.10/site-packages (from openfermion<2.0.0,>=1.5.1->quri-parts-openfermion) (2.1.0)\n",
      "Requirement already satisfied: h5py>=2.8 in /home/ec2-user/anaconda3/envs/Braket/lib/python3.10/site-packages (from openfermion<2.0.0,>=1.5.1->quri-parts-openfermion) (3.11.0)\n",
      "Requirement already satisfied: networkx in /home/ec2-user/anaconda3/envs/Braket/lib/python3.10/site-packages (from openfermion<2.0.0,>=1.5.1->quri-parts-openfermion) (3.3)\n",
      "Requirement already satisfied: numpy>=1.11.0 in /home/ec2-user/anaconda3/envs/Braket/lib/python3.10/site-packages (from openfermion<2.0.0,>=1.5.1->quri-parts-openfermion) (1.23.5)\n",
      "Requirement already satisfied: pubchempy in /home/ec2-user/anaconda3/envs/Braket/lib/python3.10/site-packages (from openfermion<2.0.0,>=1.5.1->quri-parts-openfermion) (1.0.4)\n",
      "Requirement already satisfied: requests>=2.18 in /home/ec2-user/anaconda3/envs/Braket/lib/python3.10/site-packages (from openfermion<2.0.0,>=1.5.1->quri-parts-openfermion) (2.28.2)\n",
      "Requirement already satisfied: scipy>=1.1.0 in /home/ec2-user/anaconda3/envs/Braket/lib/python3.10/site-packages (from openfermion<2.0.0,>=1.5.1->quri-parts-openfermion) (1.13.1)\n",
      "Requirement already satisfied: sympy in /home/ec2-user/anaconda3/envs/Braket/lib/python3.10/site-packages (from openfermion<2.0.0,>=1.5.1->quri-parts-openfermion) (1.12.1)\n",
      "Requirement already satisfied: quri-parts-circuit in /home/ec2-user/anaconda3/envs/Braket/lib/python3.10/site-packages (from quri-parts-core->quri-parts-openfermion) (0.18.1)\n",
      "Requirement already satisfied: duet~=0.2.8 in /home/ec2-user/anaconda3/envs/Braket/lib/python3.10/site-packages (from cirq-core~=1.0->openfermion<2.0.0,>=1.5.1->quri-parts-openfermion) (0.2.9)\n",
      "Requirement already satisfied: matplotlib~=3.0 in /home/ec2-user/anaconda3/envs/Braket/lib/python3.10/site-packages (from cirq-core~=1.0->openfermion<2.0.0,>=1.5.1->quri-parts-openfermion) (3.9.0)\n",
      "Requirement already satisfied: pandas in /home/ec2-user/anaconda3/envs/Braket/lib/python3.10/site-packages (from cirq-core~=1.0->openfermion<2.0.0,>=1.5.1->quri-parts-openfermion) (2.2.2)\n",
      "Requirement already satisfied: sortedcontainers~=2.0 in /home/ec2-user/anaconda3/envs/Braket/lib/python3.10/site-packages (from cirq-core~=1.0->openfermion<2.0.0,>=1.5.1->quri-parts-openfermion) (2.4.0)\n",
      "Requirement already satisfied: tqdm in /home/ec2-user/anaconda3/envs/Braket/lib/python3.10/site-packages (from cirq-core~=1.0->openfermion<2.0.0,>=1.5.1->quri-parts-openfermion) (4.66.4)\n",
      "Requirement already satisfied: charset-normalizer<4,>=2 in /home/ec2-user/anaconda3/envs/Braket/lib/python3.10/site-packages (from requests>=2.18->openfermion<2.0.0,>=1.5.1->quri-parts-openfermion) (3.3.2)\n",
      "Requirement already satisfied: idna<4,>=2.5 in /home/ec2-user/anaconda3/envs/Braket/lib/python3.10/site-packages (from requests>=2.18->openfermion<2.0.0,>=1.5.1->quri-parts-openfermion) (3.7)\n",
      "Requirement already satisfied: urllib3<1.27,>=1.21.1 in /home/ec2-user/anaconda3/envs/Braket/lib/python3.10/site-packages (from requests>=2.18->openfermion<2.0.0,>=1.5.1->quri-parts-openfermion) (1.26.19)\n",
      "Requirement already satisfied: certifi>=2017.4.17 in /home/ec2-user/anaconda3/envs/Braket/lib/python3.10/site-packages (from requests>=2.18->openfermion<2.0.0,>=1.5.1->quri-parts-openfermion) (2024.2.2)\n",
      "Requirement already satisfied: packaging in /home/ec2-user/anaconda3/envs/Braket/lib/python3.10/site-packages (from deprecation->openfermion<2.0.0,>=1.5.1->quri-parts-openfermion) (24.0)\n",
      "Requirement already satisfied: mpmath<1.4.0,>=1.1.0 in /home/ec2-user/anaconda3/envs/Braket/lib/python3.10/site-packages (from sympy->openfermion<2.0.0,>=1.5.1->quri-parts-openfermion) (1.3.0)\n",
      "Requirement already satisfied: contourpy>=1.0.1 in /home/ec2-user/anaconda3/envs/Braket/lib/python3.10/site-packages (from matplotlib~=3.0->cirq-core~=1.0->openfermion<2.0.0,>=1.5.1->quri-parts-openfermion) (1.2.1)\n",
      "Requirement already satisfied: cycler>=0.10 in /home/ec2-user/anaconda3/envs/Braket/lib/python3.10/site-packages (from matplotlib~=3.0->cirq-core~=1.0->openfermion<2.0.0,>=1.5.1->quri-parts-openfermion) (0.12.1)\n",
      "Requirement already satisfied: fonttools>=4.22.0 in /home/ec2-user/anaconda3/envs/Braket/lib/python3.10/site-packages (from matplotlib~=3.0->cirq-core~=1.0->openfermion<2.0.0,>=1.5.1->quri-parts-openfermion) (4.52.4)\n",
      "Requirement already satisfied: kiwisolver>=1.3.1 in /home/ec2-user/anaconda3/envs/Braket/lib/python3.10/site-packages (from matplotlib~=3.0->cirq-core~=1.0->openfermion<2.0.0,>=1.5.1->quri-parts-openfermion) (1.4.5)\n",
      "Requirement already satisfied: pillow>=8 in /home/ec2-user/anaconda3/envs/Braket/lib/python3.10/site-packages (from matplotlib~=3.0->cirq-core~=1.0->openfermion<2.0.0,>=1.5.1->quri-parts-openfermion) (10.3.0)\n",
      "Requirement already satisfied: pyparsing>=2.3.1 in /home/ec2-user/anaconda3/envs/Braket/lib/python3.10/site-packages (from matplotlib~=3.0->cirq-core~=1.0->openfermion<2.0.0,>=1.5.1->quri-parts-openfermion) (3.1.2)\n",
      "Requirement already satisfied: python-dateutil>=2.7 in /home/ec2-user/anaconda3/envs/Braket/lib/python3.10/site-packages (from matplotlib~=3.0->cirq-core~=1.0->openfermion<2.0.0,>=1.5.1->quri-parts-openfermion) (2.8.2)\n",
      "Requirement already satisfied: pytz>=2020.1 in /home/ec2-user/anaconda3/envs/Braket/lib/python3.10/site-packages (from pandas->cirq-core~=1.0->openfermion<2.0.0,>=1.5.1->quri-parts-openfermion) (2024.1)\n",
      "Requirement already satisfied: tzdata>=2022.7 in /home/ec2-user/anaconda3/envs/Braket/lib/python3.10/site-packages (from pandas->cirq-core~=1.0->openfermion<2.0.0,>=1.5.1->quri-parts-openfermion) (2024.1)\n",
      "Requirement already satisfied: six>=1.5 in /home/ec2-user/anaconda3/envs/Braket/lib/python3.10/site-packages (from python-dateutil>=2.7->matplotlib~=3.0->cirq-core~=1.0->openfermion<2.0.0,>=1.5.1->quri-parts-openfermion) (1.16.0)\n",
      "Downloading quri_parts_openfermion-0.18.1-py3-none-any.whl (25 kB)\n",
      "Installing collected packages: quri-parts-openfermion\n",
      "Successfully installed quri-parts-openfermion-0.18.1\n",
      "Note: you may need to restart the kernel to use updated packages.\n"
     ]
    }
   ],
   "source": [
    "pip install quri-parts-openfermion"
   ]
  },
  {
   "cell_type": "code",
   "execution_count": 8,
   "id": "7babfbeb-b5e7-42dc-b353-eed28b466bea",
   "metadata": {
    "tags": []
   },
   "outputs": [
    {
     "name": "stdout",
     "output_type": "stream",
     "text": [
      "Requirement already satisfied: qiskit-nature in /home/ec2-user/anaconda3/envs/Braket/lib/python3.10/site-packages (0.7.2)\n",
      "Requirement already satisfied: qiskit>=0.44 in /home/ec2-user/anaconda3/envs/Braket/lib/python3.10/site-packages (from qiskit-nature) (0.46.1)\n",
      "Requirement already satisfied: qiskit-algorithms>=0.2.1 in /home/ec2-user/anaconda3/envs/Braket/lib/python3.10/site-packages (from qiskit-nature) (0.3.0)\n",
      "Requirement already satisfied: scipy>=1.4 in /home/ec2-user/anaconda3/envs/Braket/lib/python3.10/site-packages (from qiskit-nature) (1.13.1)\n",
      "Requirement already satisfied: numpy>=1.17 in /home/ec2-user/anaconda3/envs/Braket/lib/python3.10/site-packages (from qiskit-nature) (1.26.4)\n",
      "Requirement already satisfied: psutil>=5 in /home/ec2-user/anaconda3/envs/Braket/lib/python3.10/site-packages (from qiskit-nature) (5.9.8)\n",
      "Requirement already satisfied: setuptools>=40.1.0 in /home/ec2-user/anaconda3/envs/Braket/lib/python3.10/site-packages (from qiskit-nature) (70.0.0)\n",
      "Requirement already satisfied: typing-extensions in /home/ec2-user/anaconda3/envs/Braket/lib/python3.10/site-packages (from qiskit-nature) (4.12.0)\n",
      "Requirement already satisfied: h5py in /home/ec2-user/anaconda3/envs/Braket/lib/python3.10/site-packages (from qiskit-nature) (3.11.0)\n",
      "Requirement already satisfied: rustworkx>=0.12 in /home/ec2-user/anaconda3/envs/Braket/lib/python3.10/site-packages (from qiskit-nature) (0.14.2)\n",
      "Requirement already satisfied: qiskit-terra==0.46.1 in /home/ec2-user/anaconda3/envs/Braket/lib/python3.10/site-packages (from qiskit>=0.44->qiskit-nature) (0.46.1)\n",
      "Requirement already satisfied: ply>=3.10 in /home/ec2-user/anaconda3/envs/Braket/lib/python3.10/site-packages (from qiskit-terra==0.46.1->qiskit>=0.44->qiskit-nature) (3.11)\n",
      "Requirement already satisfied: sympy>=1.3 in /home/ec2-user/anaconda3/envs/Braket/lib/python3.10/site-packages (from qiskit-terra==0.46.1->qiskit>=0.44->qiskit-nature) (1.12.1)\n",
      "Requirement already satisfied: dill>=0.3 in /home/ec2-user/anaconda3/envs/Braket/lib/python3.10/site-packages (from qiskit-terra==0.46.1->qiskit>=0.44->qiskit-nature) (0.3.8)\n",
      "Requirement already satisfied: python-dateutil>=2.8.0 in /home/ec2-user/anaconda3/envs/Braket/lib/python3.10/site-packages (from qiskit-terra==0.46.1->qiskit>=0.44->qiskit-nature) (2.9.0.post0)\n",
      "Requirement already satisfied: stevedore>=3.0.0 in /home/ec2-user/anaconda3/envs/Braket/lib/python3.10/site-packages (from qiskit-terra==0.46.1->qiskit>=0.44->qiskit-nature) (5.2.0)\n",
      "Requirement already satisfied: symengine>=0.11 in /home/ec2-user/anaconda3/envs/Braket/lib/python3.10/site-packages (from qiskit-terra==0.46.1->qiskit>=0.44->qiskit-nature) (0.11.0)\n",
      "Requirement already satisfied: six>=1.5 in /home/ec2-user/anaconda3/envs/Braket/lib/python3.10/site-packages (from python-dateutil>=2.8.0->qiskit-terra==0.46.1->qiskit>=0.44->qiskit-nature) (1.16.0)\n",
      "Requirement already satisfied: pbr!=2.1.0,>=2.0.0 in /home/ec2-user/anaconda3/envs/Braket/lib/python3.10/site-packages (from stevedore>=3.0.0->qiskit-terra==0.46.1->qiskit>=0.44->qiskit-nature) (6.0.0)\n",
      "Requirement already satisfied: mpmath<1.4.0,>=1.1.0 in /home/ec2-user/anaconda3/envs/Braket/lib/python3.10/site-packages (from sympy>=1.3->qiskit-terra==0.46.1->qiskit>=0.44->qiskit-nature) (1.3.0)\n",
      "Note: you may need to restart the kernel to use updated packages.\n"
     ]
    }
   ],
   "source": [
    "pip install qiskit-nature"
   ]
  },
  {
   "cell_type": "code",
   "execution_count": 3,
   "id": "02758076-51e6-47dc-b914-235e15fcf1ec",
   "metadata": {
    "tags": []
   },
   "outputs": [
    {
     "name": "stdout",
     "output_type": "stream",
     "text": [
      "Collecting qiskit==0.41.1\n",
      "  Downloading qiskit-0.41.1.tar.gz (14 kB)\n",
      "  Preparing metadata (setup.py) ... \u001b[?25ldone\n",
      "\u001b[?25hCollecting qiskit-terra==0.23.2 (from qiskit==0.41.1)\n",
      "  Downloading qiskit_terra-0.23.2-cp310-cp310-manylinux_2_17_x86_64.manylinux2014_x86_64.whl.metadata (9.6 kB)\n",
      "Collecting qiskit-aer==0.11.2 (from qiskit==0.41.1)\n",
      "  Downloading qiskit_aer-0.11.2-cp310-cp310-manylinux_2_17_x86_64.manylinux2014_x86_64.whl.metadata (6.2 kB)\n",
      "Collecting qiskit-ibmq-provider==0.20.1 (from qiskit==0.41.1)\n",
      "  Downloading qiskit_ibmq_provider-0.20.1-py3-none-any.whl.metadata (13 kB)\n",
      "Requirement already satisfied: numpy>=1.16.3 in /home/ec2-user/anaconda3/envs/Braket/lib/python3.10/site-packages (from qiskit-aer==0.11.2->qiskit==0.41.1) (1.26.4)\n",
      "Requirement already satisfied: scipy>=1.0 in /home/ec2-user/anaconda3/envs/Braket/lib/python3.10/site-packages (from qiskit-aer==0.11.2->qiskit==0.41.1) (1.13.1)\n",
      "Collecting requests~=2.28.0 (from qiskit-ibmq-provider==0.20.1->qiskit==0.41.1)\n",
      "  Downloading requests-2.28.2-py3-none-any.whl.metadata (4.6 kB)\n",
      "Collecting requests-ntlm~=1.1.0 (from qiskit-ibmq-provider==0.20.1->qiskit==0.41.1)\n",
      "  Downloading requests_ntlm-1.1.0-py2.py3-none-any.whl.metadata (938 bytes)\n",
      "Collecting numpy>=1.16.3 (from qiskit-aer==0.11.2->qiskit==0.41.1)\n",
      "  Downloading numpy-1.23.5-cp310-cp310-manylinux_2_17_x86_64.manylinux2014_x86_64.whl.metadata (2.3 kB)\n",
      "Collecting urllib3~=1.26.0 (from qiskit-ibmq-provider==0.20.1->qiskit==0.41.1)\n",
      "  Downloading urllib3-1.26.19-py2.py3-none-any.whl.metadata (49 kB)\n",
      "\u001b[2K     \u001b[90m━━━━━━━━━━━━━━━━━━━━━━━━━━━━━━━━━━━━━━━━\u001b[0m \u001b[32m49.3/49.3 kB\u001b[0m \u001b[31m6.0 MB/s\u001b[0m eta \u001b[36m0:00:00\u001b[0m\n",
      "\u001b[?25hCollecting python-dateutil~=2.8.0 (from qiskit-ibmq-provider==0.20.1->qiskit==0.41.1)\n",
      "  Downloading python_dateutil-2.8.2-py2.py3-none-any.whl.metadata (8.2 kB)\n",
      "Collecting websocket-client~=1.5.1 (from qiskit-ibmq-provider==0.20.1->qiskit==0.41.1)\n",
      "  Downloading websocket_client-1.5.3-py3-none-any.whl.metadata (7.6 kB)\n",
      "Collecting websockets~=10.0 (from qiskit-ibmq-provider==0.20.1->qiskit==0.41.1)\n",
      "  Downloading websockets-10.4-cp310-cp310-manylinux_2_5_x86_64.manylinux1_x86_64.manylinux_2_17_x86_64.manylinux2014_x86_64.whl.metadata (6.4 kB)\n",
      "Requirement already satisfied: rustworkx>=0.12.0 in /home/ec2-user/anaconda3/envs/Braket/lib/python3.10/site-packages (from qiskit-terra==0.23.2->qiskit==0.41.1) (0.14.2)\n",
      "Requirement already satisfied: ply>=3.10 in /home/ec2-user/anaconda3/envs/Braket/lib/python3.10/site-packages (from qiskit-terra==0.23.2->qiskit==0.41.1) (3.11)\n",
      "Requirement already satisfied: psutil>=5 in /home/ec2-user/anaconda3/envs/Braket/lib/python3.10/site-packages (from qiskit-terra==0.23.2->qiskit==0.41.1) (5.9.8)\n",
      "Requirement already satisfied: sympy>=1.3 in /home/ec2-user/anaconda3/envs/Braket/lib/python3.10/site-packages (from qiskit-terra==0.23.2->qiskit==0.41.1) (1.12.1)\n",
      "Requirement already satisfied: dill>=0.3 in /home/ec2-user/anaconda3/envs/Braket/lib/python3.10/site-packages (from qiskit-terra==0.23.2->qiskit==0.41.1) (0.3.8)\n",
      "Requirement already satisfied: stevedore>=3.0.0 in /home/ec2-user/anaconda3/envs/Braket/lib/python3.10/site-packages (from qiskit-terra==0.23.2->qiskit==0.41.1) (5.2.0)\n",
      "Requirement already satisfied: symengine>=0.9 in /home/ec2-user/anaconda3/envs/Braket/lib/python3.10/site-packages (from qiskit-terra==0.23.2->qiskit==0.41.1) (0.11.0)\n",
      "Requirement already satisfied: six>=1.5 in /home/ec2-user/anaconda3/envs/Braket/lib/python3.10/site-packages (from python-dateutil~=2.8.0->qiskit-ibmq-provider==0.20.1->qiskit==0.41.1) (1.16.0)\n",
      "Requirement already satisfied: charset-normalizer<4,>=2 in /home/ec2-user/anaconda3/envs/Braket/lib/python3.10/site-packages (from requests~=2.28.0->qiskit-ibmq-provider==0.20.1->qiskit==0.41.1) (3.3.2)\n",
      "Requirement already satisfied: idna<4,>=2.5 in /home/ec2-user/anaconda3/envs/Braket/lib/python3.10/site-packages (from requests~=2.28.0->qiskit-ibmq-provider==0.20.1->qiskit==0.41.1) (3.7)\n",
      "Requirement already satisfied: certifi>=2017.4.17 in /home/ec2-user/anaconda3/envs/Braket/lib/python3.10/site-packages (from requests~=2.28.0->qiskit-ibmq-provider==0.20.1->qiskit==0.41.1) (2024.2.2)\n",
      "Collecting ntlm-auth>=1.0.2 (from requests-ntlm~=1.1.0->qiskit-ibmq-provider==0.20.1->qiskit==0.41.1)\n",
      "  Downloading ntlm_auth-1.5.0-py2.py3-none-any.whl.metadata (10 kB)\n",
      "Requirement already satisfied: cryptography>=1.3 in /home/ec2-user/anaconda3/envs/Braket/lib/python3.10/site-packages (from requests-ntlm~=1.1.0->qiskit-ibmq-provider==0.20.1->qiskit==0.41.1) (42.0.8)\n",
      "Requirement already satisfied: pbr!=2.1.0,>=2.0.0 in /home/ec2-user/anaconda3/envs/Braket/lib/python3.10/site-packages (from stevedore>=3.0.0->qiskit-terra==0.23.2->qiskit==0.41.1) (6.0.0)\n",
      "Requirement already satisfied: mpmath<1.4.0,>=1.1.0 in /home/ec2-user/anaconda3/envs/Braket/lib/python3.10/site-packages (from sympy>=1.3->qiskit-terra==0.23.2->qiskit==0.41.1) (1.3.0)\n",
      "Requirement already satisfied: cffi>=1.12 in /home/ec2-user/anaconda3/envs/Braket/lib/python3.10/site-packages (from cryptography>=1.3->requests-ntlm~=1.1.0->qiskit-ibmq-provider==0.20.1->qiskit==0.41.1) (1.16.0)\n",
      "Requirement already satisfied: pycparser in /home/ec2-user/anaconda3/envs/Braket/lib/python3.10/site-packages (from cffi>=1.12->cryptography>=1.3->requests-ntlm~=1.1.0->qiskit-ibmq-provider==0.20.1->qiskit==0.41.1) (2.22)\n",
      "Downloading qiskit_aer-0.11.2-cp310-cp310-manylinux_2_17_x86_64.manylinux2014_x86_64.whl (12.8 MB)\n",
      "\u001b[2K   \u001b[90m━━━━━━━━━━━━━━━━━━━━━━━━━━━━━━━━━━━━━━━━\u001b[0m \u001b[32m12.8/12.8 MB\u001b[0m \u001b[31m50.6 MB/s\u001b[0m eta \u001b[36m0:00:00\u001b[0m00:01\u001b[0m00:01\u001b[0m\n",
      "\u001b[?25hDownloading qiskit_ibmq_provider-0.20.1-py3-none-any.whl (241 kB)\n",
      "\u001b[2K   \u001b[90m━━━━━━━━━━━━━━━━━━━━━━━━━━━━━━━━━━━━━━━━\u001b[0m \u001b[32m241.3/241.3 kB\u001b[0m \u001b[31m22.2 MB/s\u001b[0m eta \u001b[36m0:00:00\u001b[0m\n",
      "\u001b[?25hDownloading qiskit_terra-0.23.2-cp310-cp310-manylinux_2_17_x86_64.manylinux2014_x86_64.whl (5.1 MB)\n",
      "\u001b[2K   \u001b[90m━━━━━━━━━━━━━━━━━━━━━━━━━━━━━━━━━━━━━━━━\u001b[0m \u001b[32m5.1/5.1 MB\u001b[0m \u001b[31m5.8 MB/s\u001b[0m eta \u001b[36m0:00:00\u001b[0m00:01\u001b[0m00:01\u001b[0m0m\n",
      "\u001b[?25hDownloading numpy-1.23.5-cp310-cp310-manylinux_2_17_x86_64.manylinux2014_x86_64.whl (17.1 MB)\n",
      "\u001b[2K   \u001b[90m━━━━━━━━━━━━━━━━━━━━━━━━━━━━━━━━━━━━━━━━\u001b[0m \u001b[32m17.1/17.1 MB\u001b[0m \u001b[31m69.9 MB/s\u001b[0m eta \u001b[36m0:00:00\u001b[0m:00:01\u001b[0m00:01\u001b[0m\n",
      "\u001b[?25hDownloading python_dateutil-2.8.2-py2.py3-none-any.whl (247 kB)\n",
      "\u001b[2K   \u001b[90m━━━━━━━━━━━━━━━━━━━━━━━━━━━━━━━━━━━━━━━━\u001b[0m \u001b[32m247.7/247.7 kB\u001b[0m \u001b[31m31.8 MB/s\u001b[0m eta \u001b[36m0:00:00\u001b[0m\n",
      "\u001b[?25hDownloading requests-2.28.2-py3-none-any.whl (62 kB)\n",
      "\u001b[2K   \u001b[90m━━━━━━━━━━━━━━━━━━━━━━━━━━━━━━━━━━━━━━━━\u001b[0m \u001b[32m62.8/62.8 kB\u001b[0m \u001b[31m9.3 MB/s\u001b[0m eta \u001b[36m0:00:00\u001b[0m\n",
      "\u001b[?25hDownloading requests_ntlm-1.1.0-py2.py3-none-any.whl (5.7 kB)\n",
      "Downloading urllib3-1.26.19-py2.py3-none-any.whl (143 kB)\n",
      "\u001b[2K   \u001b[90m━━━━━━━━━━━━━━━━━━━━━━━━━━━━━━━━━━━━━━━━\u001b[0m \u001b[32m143.9/143.9 kB\u001b[0m \u001b[31m14.8 MB/s\u001b[0m eta \u001b[36m0:00:00\u001b[0m\n",
      "\u001b[?25hDownloading websocket_client-1.5.3-py3-none-any.whl (56 kB)\n",
      "\u001b[2K   \u001b[90m━━━━━━━━━━━━━━━━━━━━━━━━━━━━━━━━━━━━━━━━\u001b[0m \u001b[32m56.6/56.6 kB\u001b[0m \u001b[31m5.6 MB/s\u001b[0m eta \u001b[36m0:00:00\u001b[0m\n",
      "\u001b[?25hDownloading websockets-10.4-cp310-cp310-manylinux_2_5_x86_64.manylinux1_x86_64.manylinux_2_17_x86_64.manylinux2014_x86_64.whl (106 kB)\n",
      "\u001b[2K   \u001b[90m━━━━━━━━━━━━━━━━━━━━━━━━━━━━━━━━━━━━━━━━\u001b[0m \u001b[32m106.8/106.8 kB\u001b[0m \u001b[31m21.4 MB/s\u001b[0m eta \u001b[36m0:00:00\u001b[0m\n",
      "\u001b[?25hDownloading ntlm_auth-1.5.0-py2.py3-none-any.whl (29 kB)\n",
      "Building wheels for collected packages: qiskit\n",
      "  Building wheel for qiskit (setup.py) ... \u001b[?25ldone\n",
      "\u001b[?25h  Created wheel for qiskit: filename=qiskit-0.41.1-py3-none-any.whl size=12896 sha256=65710a41ff8c3fea7c5158729b8407ffbe0fe20515344efccc121be5041dbede\n",
      "  Stored in directory: /home/ec2-user/.cache/pip/wheels/2f/83/1e/2254d92cbe1dbf0b4e7291510e14dcccc5dfdd2de76862d55e\n",
      "Successfully built qiskit\n",
      "Installing collected packages: websockets, websocket-client, urllib3, python-dateutil, numpy, ntlm-auth, requests, requests-ntlm, qiskit-terra, qiskit-ibmq-provider, qiskit-aer, qiskit\n",
      "  Attempting uninstall: websocket-client\n",
      "    Found existing installation: websocket-client 1.8.0\n",
      "    Uninstalling websocket-client-1.8.0:\n",
      "      Successfully uninstalled websocket-client-1.8.0\n",
      "  Attempting uninstall: urllib3\n",
      "    Found existing installation: urllib3 2.2.1\n",
      "    Uninstalling urllib3-2.2.1:\n",
      "      Successfully uninstalled urllib3-2.2.1\n",
      "  Attempting uninstall: python-dateutil\n",
      "    Found existing installation: python-dateutil 2.9.0.post0\n",
      "    Uninstalling python-dateutil-2.9.0.post0:\n",
      "      Successfully uninstalled python-dateutil-2.9.0.post0\n",
      "  Attempting uninstall: numpy\n",
      "    Found existing installation: numpy 1.26.4\n",
      "    Uninstalling numpy-1.26.4:\n",
      "      Successfully uninstalled numpy-1.26.4\n",
      "  Attempting uninstall: requests\n",
      "    Found existing installation: requests 2.32.2\n",
      "    Uninstalling requests-2.32.2:\n",
      "      Successfully uninstalled requests-2.32.2\n",
      "  Attempting uninstall: requests-ntlm\n",
      "    Found existing installation: requests_ntlm 1.3.0\n",
      "    Uninstalling requests_ntlm-1.3.0:\n",
      "      Successfully uninstalled requests_ntlm-1.3.0\n",
      "  Attempting uninstall: qiskit-terra\n",
      "    Found existing installation: qiskit-terra 0.46.1\n",
      "    Uninstalling qiskit-terra-0.46.1:\n",
      "      Successfully uninstalled qiskit-terra-0.46.1\n",
      "  Attempting uninstall: qiskit-aer\n",
      "    Found existing installation: qiskit-aer 0.14.0.1\n",
      "    Uninstalling qiskit-aer-0.14.0.1:\n",
      "      Successfully uninstalled qiskit-aer-0.14.0.1\n",
      "  Attempting uninstall: qiskit\n",
      "    Found existing installation: qiskit 0.46.1\n",
      "    Uninstalling qiskit-0.46.1:\n",
      "      Successfully uninstalled qiskit-0.46.1\n",
      "\u001b[31mERROR: pip's dependency resolver does not currently take into account all the packages that are installed. This behaviour is the source of the following dependency conflicts.\n",
      "chex 0.1.86 requires numpy>=1.24.1, but you have numpy 1.23.5 which is incompatible.\n",
      "ibm-cloud-sdk-core 3.20.1 requires requests<2.32.3,>=2.31.0, but you have requests 2.28.2 which is incompatible.\n",
      "ibm-cloud-sdk-core 3.20.1 requires urllib3<3.0.0,>=2.1.0, but you have urllib3 1.26.19 which is incompatible.\n",
      "qiskit-algorithms 0.3.0 requires qiskit>=0.44, but you have qiskit 0.41.1 which is incompatible.\n",
      "qiskit-ibm-runtime 0.20.0 requires qiskit>=0.45.0, but you have qiskit 0.41.1 which is incompatible.\n",
      "qiskit-nature 0.7.2 requires qiskit>=0.44, but you have qiskit 0.41.1 which is incompatible.\u001b[0m\u001b[31m\n",
      "\u001b[0mSuccessfully installed ntlm-auth-1.5.0 numpy-1.23.5 python-dateutil-2.8.2 qiskit-0.41.1 qiskit-aer-0.11.2 qiskit-ibmq-provider-0.20.1 qiskit-terra-0.23.2 requests-2.28.2 requests-ntlm-1.1.0 urllib3-1.26.19 websocket-client-1.5.3 websockets-10.4\n",
      "Note: you may need to restart the kernel to use updated packages.\n"
     ]
    }
   ],
   "source": [
    "pip install qiskit==0.41.1"
   ]
  },
  {
   "cell_type": "code",
   "execution_count": 7,
   "id": "a8195a9a-6be2-417e-8601-2ca3e6646e7e",
   "metadata": {
    "tags": []
   },
   "outputs": [
    {
     "name": "stdout",
     "output_type": "stream",
     "text": [
      "Requirement already satisfied: openfermion in /home/ec2-user/anaconda3/envs/Braket/lib/python3.10/site-packages (1.6.1)\n",
      "Requirement already satisfied: cirq-core~=1.0 in /home/ec2-user/anaconda3/envs/Braket/lib/python3.10/site-packages (from openfermion) (1.3.0)\n",
      "Requirement already satisfied: deprecation in /home/ec2-user/anaconda3/envs/Braket/lib/python3.10/site-packages (from openfermion) (2.1.0)\n",
      "Requirement already satisfied: h5py>=2.8 in /home/ec2-user/anaconda3/envs/Braket/lib/python3.10/site-packages (from openfermion) (3.11.0)\n",
      "Requirement already satisfied: networkx in /home/ec2-user/anaconda3/envs/Braket/lib/python3.10/site-packages (from openfermion) (3.3)\n",
      "Requirement already satisfied: numpy>=1.11.0 in /home/ec2-user/anaconda3/envs/Braket/lib/python3.10/site-packages (from openfermion) (1.23.5)\n",
      "Requirement already satisfied: pubchempy in /home/ec2-user/anaconda3/envs/Braket/lib/python3.10/site-packages (from openfermion) (1.0.4)\n",
      "Requirement already satisfied: requests>=2.18 in /home/ec2-user/anaconda3/envs/Braket/lib/python3.10/site-packages (from openfermion) (2.28.2)\n",
      "Requirement already satisfied: scipy>=1.1.0 in /home/ec2-user/anaconda3/envs/Braket/lib/python3.10/site-packages (from openfermion) (1.13.1)\n",
      "Requirement already satisfied: sympy in /home/ec2-user/anaconda3/envs/Braket/lib/python3.10/site-packages (from openfermion) (1.12.1)\n",
      "Requirement already satisfied: duet~=0.2.8 in /home/ec2-user/anaconda3/envs/Braket/lib/python3.10/site-packages (from cirq-core~=1.0->openfermion) (0.2.9)\n",
      "Requirement already satisfied: matplotlib~=3.0 in /home/ec2-user/anaconda3/envs/Braket/lib/python3.10/site-packages (from cirq-core~=1.0->openfermion) (3.9.0)\n",
      "Requirement already satisfied: pandas in /home/ec2-user/anaconda3/envs/Braket/lib/python3.10/site-packages (from cirq-core~=1.0->openfermion) (2.2.2)\n",
      "Requirement already satisfied: sortedcontainers~=2.0 in /home/ec2-user/anaconda3/envs/Braket/lib/python3.10/site-packages (from cirq-core~=1.0->openfermion) (2.4.0)\n",
      "Requirement already satisfied: typing-extensions>=4.2 in /home/ec2-user/anaconda3/envs/Braket/lib/python3.10/site-packages (from cirq-core~=1.0->openfermion) (4.12.0)\n",
      "Requirement already satisfied: tqdm in /home/ec2-user/anaconda3/envs/Braket/lib/python3.10/site-packages (from cirq-core~=1.0->openfermion) (4.66.4)\n",
      "Requirement already satisfied: charset-normalizer<4,>=2 in /home/ec2-user/anaconda3/envs/Braket/lib/python3.10/site-packages (from requests>=2.18->openfermion) (3.3.2)\n",
      "Requirement already satisfied: idna<4,>=2.5 in /home/ec2-user/anaconda3/envs/Braket/lib/python3.10/site-packages (from requests>=2.18->openfermion) (3.7)\n",
      "Requirement already satisfied: urllib3<1.27,>=1.21.1 in /home/ec2-user/anaconda3/envs/Braket/lib/python3.10/site-packages (from requests>=2.18->openfermion) (1.26.19)\n",
      "Requirement already satisfied: certifi>=2017.4.17 in /home/ec2-user/anaconda3/envs/Braket/lib/python3.10/site-packages (from requests>=2.18->openfermion) (2024.2.2)\n",
      "Requirement already satisfied: packaging in /home/ec2-user/anaconda3/envs/Braket/lib/python3.10/site-packages (from deprecation->openfermion) (24.0)\n",
      "Requirement already satisfied: mpmath<1.4.0,>=1.1.0 in /home/ec2-user/anaconda3/envs/Braket/lib/python3.10/site-packages (from sympy->openfermion) (1.3.0)\n",
      "Requirement already satisfied: contourpy>=1.0.1 in /home/ec2-user/anaconda3/envs/Braket/lib/python3.10/site-packages (from matplotlib~=3.0->cirq-core~=1.0->openfermion) (1.2.1)\n",
      "Requirement already satisfied: cycler>=0.10 in /home/ec2-user/anaconda3/envs/Braket/lib/python3.10/site-packages (from matplotlib~=3.0->cirq-core~=1.0->openfermion) (0.12.1)\n",
      "Requirement already satisfied: fonttools>=4.22.0 in /home/ec2-user/anaconda3/envs/Braket/lib/python3.10/site-packages (from matplotlib~=3.0->cirq-core~=1.0->openfermion) (4.52.4)\n",
      "Requirement already satisfied: kiwisolver>=1.3.1 in /home/ec2-user/anaconda3/envs/Braket/lib/python3.10/site-packages (from matplotlib~=3.0->cirq-core~=1.0->openfermion) (1.4.5)\n",
      "Requirement already satisfied: pillow>=8 in /home/ec2-user/anaconda3/envs/Braket/lib/python3.10/site-packages (from matplotlib~=3.0->cirq-core~=1.0->openfermion) (10.3.0)\n",
      "Requirement already satisfied: pyparsing>=2.3.1 in /home/ec2-user/anaconda3/envs/Braket/lib/python3.10/site-packages (from matplotlib~=3.0->cirq-core~=1.0->openfermion) (3.1.2)\n",
      "Requirement already satisfied: python-dateutil>=2.7 in /home/ec2-user/anaconda3/envs/Braket/lib/python3.10/site-packages (from matplotlib~=3.0->cirq-core~=1.0->openfermion) (2.8.2)\n",
      "Requirement already satisfied: pytz>=2020.1 in /home/ec2-user/anaconda3/envs/Braket/lib/python3.10/site-packages (from pandas->cirq-core~=1.0->openfermion) (2024.1)\n",
      "Requirement already satisfied: tzdata>=2022.7 in /home/ec2-user/anaconda3/envs/Braket/lib/python3.10/site-packages (from pandas->cirq-core~=1.0->openfermion) (2024.1)\n",
      "Requirement already satisfied: six>=1.5 in /home/ec2-user/anaconda3/envs/Braket/lib/python3.10/site-packages (from python-dateutil>=2.7->matplotlib~=3.0->cirq-core~=1.0->openfermion) (1.16.0)\n",
      "Note: you may need to restart the kernel to use updated packages.\n"
     ]
    }
   ],
   "source": [
    "pip install openfermion"
   ]
  },
  {
   "cell_type": "code",
   "execution_count": 1,
   "id": "c286c41c-6fc9-43cb-9e7f-e35d3a384df6",
   "metadata": {
    "tags": []
   },
   "outputs": [],
   "source": [
    "import qiskit\n",
    "from qiskit.quantum_info import SparsePauliOp, Operator\n",
    "\n",
    "import numpy as np\n",
    "\n",
    "from qiskit.circuit import Parameter, Gate\n",
    "#from qiskit import QuantumCircuit\n",
    "from scipy.optimize import minimize\n",
    "from qiskit.circuit import QuantumCircuit, ParameterVector\n",
    "from scipy.linalg import expm\n",
    "from tqdm import tqdm\n",
    "#from qiskit.circuit.library import HamiltonianGate\n",
    "from qiskit_nature.second_q.operators import FermionicOp\n",
    "from qiskit_nature.second_q.mappers import JordanWignerMapper\n",
    "import marshal\n",
    "import csv"
   ]
  },
  {
   "cell_type": "code",
   "execution_count": 2,
   "id": "be3a4df2-a98d-4bff-b8b2-50a19c9eac4d",
   "metadata": {
    "tags": []
   },
   "outputs": [
    {
     "name": "stdout",
     "output_type": "stream",
     "text": [
      "Detected IPython. Loading juliacall extension. See https://juliapy.github.io/PythonCall.jl/stable/compat/#IPython\n"
     ]
    },
    {
     "name": "stderr",
     "output_type": "stream",
     "text": [
      "   Resolving package versions...\n",
      "  No Changes to `~/anaconda3/envs/JupyterSystemEnv/julia_env/Project.toml`\n",
      "  No Changes to `~/anaconda3/envs/JupyterSystemEnv/julia_env/Manifest.toml`\n"
     ]
    },
    {
     "name": "stdout",
     "output_type": "stream",
     "text": [
      "test mps sampling took: (56.44288611412048, Counter({2: 6, 0: 4}))\n"
     ]
    }
   ],
   "source": [
    "import sys\n",
    "\n",
    "sys.path.append(\"../\")\n",
    "\n",
    "from openfermion.transforms import jordan_wigner\n",
    "\n",
    "from quri_parts.algo.ansatz import SymmetryPreservingReal\n",
    "from quri_parts.algo.optimizer import SPSA, OptimizerStatus\n",
    "from quri_parts.circuit import LinearMappedUnboundParametricQuantumCircuit\n",
    "from quri_parts.core.estimator.gradient import parameter_shift_gradient_estimates\n",
    "from quri_parts.core.measurement import bitwise_commuting_pauli_measurement, CachedMeasurementFactory\n",
    "from quri_parts.core.sampling.shots_allocator import (\n",
    "    create_equipartition_shots_allocator,\n",
    ")\n",
    "from quri_parts.core.state import ParametricCircuitQuantumState, ComputationalBasisState, GeneralCircuitQuantumState\n",
    "\n",
    "from quri_parts.openfermion.operator import operator_from_openfermion_op\n",
    "\n",
    "\n",
    "\n",
    "from utils.challenge_2024 import ChallengeSampling, ExceededError, problem_hamiltonian\n",
    "\n",
    "# define challenge_sampling\n",
    "challenge_sampling = ChallengeSampling()"
   ]
  },
  {
   "cell_type": "code",
   "execution_count": 3,
   "id": "1114f7dc-e589-4d19-923f-7ee6cee7d6c5",
   "metadata": {},
   "outputs": [],
   "source": [
    "from quri_parts.qiskit.circuit import circuit_from_qiskit\n",
    "\n",
    "# create estimator\n",
    "shots_allocator = create_equipartition_shots_allocator()\n",
    "measurement_factory = bitwise_commuting_pauli_measurement\n",
    "\n",
    "estimator = challenge_sampling.create_concurrent_parametric_sampling_estimator(\n",
    "    n_shots=1000,\n",
    "    measurement_factory=measurement_factory,\n",
    "    shots_allocator=shots_allocator,\n",
    ")"
   ]
  },
  {
   "cell_type": "markdown",
   "id": "ba72a214-59bd-40df-91ae-790ada570cf1",
   "metadata": {},
   "source": [
    "# Su(n) gate and ansatz"
   ]
  },
  {
   "cell_type": "code",
   "execution_count": 4,
   "id": "f2e90eb1-2cd7-494a-b1dc-6a8d44bfb2de",
   "metadata": {},
   "outputs": [
    {
     "data": {
      "text/plain": [
       "' \\ndef su4(params):\\n    q = qiskit.QuantumRegister(2)\\n    cir = qiskit.QuantumCircuit(q)\\n    \\n    cir.ry(params[0], 0)\\n    cir.rx(params[1], 0)\\n    cir.ry(params[2], 0)\\n    # Single U(2) parameterization on qubit 2\\n    cir.ry(params[3], 1)\\n    cir.rx(params[4], 1)\\n    cir.ry(params[5], 1)\\n    # CNOT with control on qubit 2\\n    cir.cx(1, 0)\\n    # Rz and Ry gate\\n    cir.rz(params[6], 0)\\n    cir.ry(params[7], 1)\\n    # CNOT with control on qubit 1\\n    cir.cx(0, 1)\\n    # Ry gate on qubit 2\\n    cir.ry(params[8], 1)\\n    # CNOT with control on qubit 2\\n    cir.cx(1, 0)\\n    # Single U(2) parameterization on qubit 1\\n    cir.ry(params[9], 0)\\n    cir.rx(params[10], 0)\\n    cir.ry(params[11], 0)\\n    # Single U(2) parameterization on qubit 2\\n    cir.ry(params[12], 1)\\n    cir.rx(params[13], 1)\\n    cir.ry(params[14], 1)\\n    \\n    return cir\\n'"
      ]
     },
     "execution_count": 4,
     "metadata": {},
     "output_type": "execute_result"
    }
   ],
   "source": [
    "from quri_parts.circuit import UnboundParametricQuantumCircuit\n",
    "\n",
    "def su4(qubits,circuit):\n",
    "    \n",
    "\n",
    "    circuit.add_ParametricRY_gate(qubits[0])\n",
    "    circuit.add_ParametricRX_gate(qubits[0])\n",
    "    circuit.add_ParametricRY_gate(qubits[0])\n",
    "    \n",
    "    circuit.add_ParametricRY_gate(qubits[1])\n",
    "    circuit.add_ParametricRX_gate(qubits[1])\n",
    "    circuit.add_ParametricRY_gate(qubits[1])\n",
    "    \n",
    "    circuit.add_CNOT_gate(qubits[0],qubits[1])\n",
    "    \n",
    "    circuit.add_ParametricRZ_gate(qubits[0])\n",
    "    circuit.add_ParametricRY_gate(qubits[1])\n",
    "\n",
    "    circuit.add_CNOT_gate(qubits[1],qubits[0])\n",
    "    \n",
    "    circuit.add_ParametricRY_gate(qubits[1])\n",
    "    \n",
    "    circuit.add_CNOT_gate(qubits[0],qubits[1])\n",
    "    \n",
    "    circuit.add_ParametricRY_gate(qubits[0])\n",
    "    circuit.add_ParametricRX_gate(qubits[0])\n",
    "    circuit.add_ParametricRY_gate(qubits[0])\n",
    "    \n",
    "    circuit.add_ParametricRY_gate(qubits[1])\n",
    "    circuit.add_ParametricRX_gate(qubits[1])\n",
    "    circuit.add_ParametricRY_gate(qubits[1])\n",
    "\n",
    "'''\n",
    "def su4(params,qubits,circuit):\n",
    "    \n",
    "\n",
    "    circuit.add_RY_gate(qubits[0], params[0])\n",
    "    circuit.add_RX_gate(qubits[0], params[1])\n",
    "    circuit.add_RY_gate(qubits[0], params[2])\n",
    "    \n",
    "    circuit.add_RY_gate(qubits[1], params[3])\n",
    "    circuit.add_RX_gate(qubits[1], params[4])\n",
    "    circuit.add_RY_gate(qubits[1], params[5])\n",
    "    \n",
    "    circuit.add_CNOT_gate(qubits[0],qubits[1])\n",
    "    \n",
    "    circuit.add_RZ_gate(qubits[0], params[6])\n",
    "    circuit.add_RY_gate(qubits[1], params[7])\n",
    "\n",
    "    circuit.add_CNOT_gate(qubits[1],qubits[0])\n",
    "    \n",
    "    circuit.add_RY_gate(qubits[1], params[8])\n",
    "    \n",
    "    circuit.add_CNOT_gate(qubits[0],qubits[1])\n",
    "    \n",
    "    circuit.add_RY_gate(qubits[0], params[9])\n",
    "    circuit.add_RX_gate(qubits[0], params[10])\n",
    "    circuit.add_RY_gate(qubits[0], params[11])\n",
    "    \n",
    "    circuit.add_RY_gate(qubits[1], params[12])\n",
    "    circuit.add_RX_gate(qubits[1], params[13])\n",
    "    circuit.add_RY_gate(qubits[1], params[14])\n",
    "    \n",
    "'''    \n",
    "''' \n",
    "def su4(params):\n",
    "    q = qiskit.QuantumRegister(2)\n",
    "    cir = qiskit.QuantumCircuit(q)\n",
    "    \n",
    "    cir.ry(params[0], 0)\n",
    "    cir.rx(params[1], 0)\n",
    "    cir.ry(params[2], 0)\n",
    "    # Single U(2) parameterization on qubit 2\n",
    "    cir.ry(params[3], 1)\n",
    "    cir.rx(params[4], 1)\n",
    "    cir.ry(params[5], 1)\n",
    "    # CNOT with control on qubit 2\n",
    "    cir.cx(1, 0)\n",
    "    # Rz and Ry gate\n",
    "    cir.rz(params[6], 0)\n",
    "    cir.ry(params[7], 1)\n",
    "    # CNOT with control on qubit 1\n",
    "    cir.cx(0, 1)\n",
    "    # Ry gate on qubit 2\n",
    "    cir.ry(params[8], 1)\n",
    "    # CNOT with control on qubit 2\n",
    "    cir.cx(1, 0)\n",
    "    # Single U(2) parameterization on qubit 1\n",
    "    cir.ry(params[9], 0)\n",
    "    cir.rx(params[10], 0)\n",
    "    cir.ry(params[11], 0)\n",
    "    # Single U(2) parameterization on qubit 2\n",
    "    cir.ry(params[12], 1)\n",
    "    cir.rx(params[13], 1)\n",
    "    cir.ry(params[14], 1)\n",
    "    \n",
    "    return cir\n",
    "'''"
   ]
  },
  {
   "cell_type": "code",
   "execution_count": 5,
   "id": "d1c66f6b-d673-4518-996d-227449a63709",
   "metadata": {},
   "outputs": [],
   "source": [
    "def apply_su4_in_layers(depth, nqubits, fix_pars_per_layer=False):\n",
    "    \"\"\"Apply a (callable) operation in layers.\n",
    "\n",
    "    Args:\n",
    "        theta (tensor_like): The arguments passed to the operations. The expected shape\n",
    "            is ``(depth, k, num_params_op)``, where ``k`` is determined by ``fix_pars_per_layer``\n",
    "            and ``num_params_op`` is the number of paramters each operation takes.\n",
    "        Op (callable): The operation to apply\n",
    "        depth (int): The number of layers to apply\n",
    "        fix_pars_per_layer (bool): Whether or not all operations applied in parallel share the\n",
    "            same parameters. If ``True``, the dimension ``k`` in the shape of ``theta`` is set to\n",
    "            two, otherwise it is set to ``nqubits``.\n",
    "\n",
    "    \"\"\"\n",
    "    circuit = UnboundParametricQuantumCircuit(nqubits)\n",
    "    #circuit = LinearMappedUnboundParametricQuantumCircuit(n_qubits)\n",
    "    qubits = list(range(nqubits))\n",
    "    \n",
    "    if fix_pars_per_layer:\n",
    "        size = 2\n",
    "    else:\n",
    "        size = nqubits\n",
    "    \n",
    "    for d in range(depth):\n",
    "        # Even-odd qubit pairs\n",
    "        idx = 0\n",
    "        for q in qubits[0::2]:\n",
    "            #`su4(theta[(d*size + idx)*15:(d*size + idx +1)*15], [q, (q+1+d)%nqubits],circuit)\n",
    "            su4([q, (q+1+d)%nqubits],circuit)\n",
    "            if q == nqubits - 2:\n",
    "                idx += 1\n",
    "            elif not fix_pars_per_layer:\n",
    "                idx += 1\n",
    "            \n",
    "        # Odd-even qubit pairs\n",
    "        for q in qubits[1::2]:\n",
    "            # su4(theta[(d*size + idx)*15:(d*size + idx +1)*15], [q, (q+1+d)%nqubits],circuit)\n",
    "            su4([q, (q+1+d)%nqubits],circuit)\n",
    "            if not fix_pars_per_layer:\n",
    "                idx += 1\n",
    "    return circuit"
   ]
  },
  {
   "cell_type": "markdown",
   "id": "4f162fd2-e6fc-4e70-a131-51696dbc671b",
   "metadata": {},
   "source": [
    "# VQE"
   ]
  },
  {
   "cell_type": "code",
   "execution_count": null,
   "id": "4b758f32-11fa-46a3-bce2-3f273130eced",
   "metadata": {},
   "outputs": [],
   "source": [
    "def print_cpu_usage():\n",
    "  import psutil\n",
    "  split_bar = '='*20\n",
    "  memory_info = psutil.virtual_memory()._asdict()\n",
    "  print(f\"{split_bar} Memory Usage {split_bar}\")\n",
    "  for k,v in memory_info.items():\n",
    "    print(k, v)\n",
    "  print(f\"{split_bar} CPU Usage {split_bar}\")\n",
    "  print(f\"CPU percent: {psutil.cpu_percent()}%\")"
   ]
  },
  {
   "cell_type": "code",
   "execution_count": 11,
   "id": "3dce467d-9fb4-45f9-b74f-fa412d75db42",
   "metadata": {},
   "outputs": [],
   "source": [
    "from qiskit_nature.second_q.circuit.library import HartreeFock, UCCSD\n",
    "from qiskit_algorithms.gradients import FiniteDiffEstimatorGradient\n",
    "import math\n",
    "\n",
    "def vqe(\n",
    "    num_qubits,\n",
    "    observable,\n",
    "    depth,\n",
    "    optimizer,\n",
    "    max_steps,\n",
    "    init_param=None):\n",
    "\n",
    "    # n = 4**num_SUgate_qubits - 1 = 15\n",
    "    param_len = depth*num_qubits*15\n",
    "\n",
    "\n",
    "    # List to store the minimized values after every iteration\n",
    "    '''\n",
    "    num_orbitals = num_qubits // 2\n",
    "    num_particles = num_qubits // 2\n",
    "    num_alpha = num_particles // 2\n",
    "    num_beta = num_particles // 2\n",
    "\n",
    "    mapper = JordanWignerMapper()\n",
    "    init_state = HartreeFock(num_orbitals, (num_alpha, num_beta) , qubit_mapper=mapper)\n",
    "\n",
    "    circ = init_state.compose(apply_su4_in_layers(params, depth, num_qubits, fix_pars_per_layer=False))\n",
    "    quri_parts_circuit = circuit_from_qiskit(circ)\n",
    "    circuit_state = GeneralCircuitQuantumState(num_qubits, quri_parts_circuit)\n",
    "    '''\n",
    "    n_site = num_qubits // 2\n",
    "    hf_gates = ComputationalBasisState(num_qubits, bits=2**n_site - 1).circuit.gates\n",
    "    circuit = UnboundParametricQuantumCircuit(num_qubits).combine(\n",
    "            hf_gates\n",
    "        )\n",
    "    circuit.extend(apply_su4_in_layers(depth, num_qubits, fix_pars_per_layer=False))\n",
    "    circuit_state = ParametricCircuitQuantumState(num_qubits, circuit)\n",
    "    \n",
    "    def cost_function(params):\n",
    "        \"\"\"Cost function of the VQE.\"\"\"\n",
    "\n",
    "        # Initialize Hartree-Fock state\n",
    "        \n",
    "        estimated_value = estimator(hamiltonian,circuit_state,[params])[0].value.real\n",
    "\n",
    "        # Store the minimized value\n",
    "        # minimized_values.append(estimator_expvals)\n",
    "        # print(\"Minimized Exp Value: \", estimator_expvals)\n",
    "        # print(\"-----------------------------------------\")\n",
    "\n",
    "        return estimated_value\n",
    "    \n",
    "    def grad_function(params):\n",
    "        grad = parameter_shift_gradient_estimates(\n",
    "            observable, circuit_state, params, estimator\n",
    "        )\n",
    "        return np.asarray([i.real for i in grad.values])\n",
    "    '''\n",
    "    def grad_function(params):\n",
    "        \"\"\" use FiniteDiffEstimatorGradient \"\"\"\n",
    "\n",
    "        # Initialize Hartree-Fock state\n",
    "        num_orbitals = num_qubits // 2\n",
    "        num_particles = num_qubits // 2\n",
    "        num_alpha = num_particles // 2\n",
    "        num_beta = num_particles // 2\n",
    "\n",
    "        mapper = JordanWignerMapper()\n",
    "        init_state = HartreeFock(num_orbitals, (num_alpha, num_beta) , qubit_mapper=mapper)\n",
    "\n",
    "       \n",
    "        # This could be optimized\n",
    "        indices = [*range(len(params))]\n",
    "\n",
    "        offset = np.identity(len(params))[indices, :]\n",
    "        plus = params + 0.001 * offset\n",
    "        minus = params - 0.001 * offset\n",
    "\n",
    "        # length of circ_list is param_len\n",
    "        quri_circ_plus = [circuit_from_qiskit(init_state.compose(apply_su4_in_layers(params_value, depth, num_qubits, fix_pars_per_layer=False))) for params_value in plus]\n",
    "        quri_circ_minus = [circuit_from_qiskit(init_state.compose(apply_su4_in_layers(params_value, depth, num_qubits, fix_pars_per_layer=False))) for params_value in minus]\n",
    "        \n",
    "        plus_state = [GeneralCircuitQuantumState(num_qubits, circuit) for circuit in quri_circ_plus]\n",
    "        minus_state = [GeneralCircuitQuantumState(num_qubits, circuit) for circuit in quri_circ_minus]\n",
    "\n",
    "        \n",
    "        estimated_value_plus = [plusresult.value.real for plusresult in estimator([observable] * param_len, plus_state)]\n",
    "        estimated_value_minus = [minusresult.value.real for minusresult in estimator([observable] * param_len, minus_state)]\n",
    "\n",
    "\n",
    "        return (estimated_value_plus-estimated_value_minus)/0.002\n",
    "        #return circ_plus_list\n",
    "    '''\n",
    "\n",
    "    # Create initial parameters\n",
    "    if init_param is None:\n",
    "        init_params = np.array([0.1]*param_len)\n",
    "    else:\n",
    "        init_params = init_param\n",
    "\n",
    "    Optimizer = optimizer(maxiter=max_steps)\n",
    "    # Optimizer = optimizer(maxfun=max_steps)\n",
    "    opt_result = Optimizer.minimize(fun=cost_function, x0=init_params, jac=grad_function)\n",
    "\n",
    "    return opt_result"
   ]
  },
  {
   "cell_type": "code",
   "execution_count": null,
   "id": "0645d97e-0f39-4927-8071-fc8c5b52302f",
   "metadata": {},
   "outputs": [],
   "source": [
    "def separat_vqe(\n",
    "    num_qubits,\n",
    "    observable,\n",
    "    depth,\n",
    "    optimizer,\n",
    "    max_steps,\n",
    "    separat_steps,\n",
    "    init_param=None):\n",
    "    \n",
    "    with open(\"vqe_params_\" + datetime + \".csv\", \"a\", newline='') as fd:\n",
    "        statewriter = csv.writer(fd, delimiter=',', quoting=csv.QUOTE_MINIMAL)\n",
    "        if init_param is None:\n",
    "            result = vqe(num_qubits,\n",
    "                         observable,\n",
    "                         depth,\n",
    "                         optimizer,\n",
    "                         max_steps=separat_steps,\n",
    "                         init_param=None)\n",
    "        else:\n",
    "            result = vqe(num_qubits,\n",
    "                         observable,\n",
    "                         depth,\n",
    "                         optimizer,\n",
    "                         max_steps=separat_steps,\n",
    "                         init_param=init_param)\n",
    "        print(result.fun)\n",
    "        statewriter.writerow(result.x)\n",
    "    \n",
    "    \n",
    "        for i in range(separat_steps,max_steps,separat_steps):\n",
    "            result = vqe(num_qubits,\n",
    "                         observable,\n",
    "                         depth,\n",
    "                         optimizer,\n",
    "                         separat_steps,\n",
    "                         init_param=result.x)\n",
    "            print(result.fun)\n",
    "            statewriter.writerow(result.x)\n",
    "            print(\"completed steps:\",i)\n",
    "        "
   ]
  },
  {
   "cell_type": "markdown",
   "id": "cf530d2c-5574-476e-a399-ecc0809fee10",
   "metadata": {},
   "source": [
    "# problem hamiltonian"
   ]
  },
  {
   "cell_type": "code",
   "execution_count": 12,
   "id": "745a9f6b-ebee-42f8-8004-5fcb18a0caf9",
   "metadata": {
    "tags": []
   },
   "outputs": [
    {
     "name": "stdout",
     "output_type": "stream",
     "text": [
      "04qubits_00\n"
     ]
    }
   ],
   "source": [
    "n_qubits = 4\n",
    "seed=0\n",
    "hamiltonian_directory=\"../hamiltonian\"\n",
    "ham = problem_hamiltonian(n_qubits, seed, hamiltonian_directory)\n",
    "n_site = n_qubits // 2\n",
    "total_shots = 10**6\n",
    "jw_hamiltonian = jordan_wigner(ham)\n",
    "\n",
    "hamiltonian = operator_from_openfermion_op(jw_hamiltonian)"
   ]
  },
  {
   "cell_type": "markdown",
   "id": "3e5d5e5a-3ced-4a9f-9181-648708e123c4",
   "metadata": {},
   "source": [
    "# Train"
   ]
  },
  {
   "cell_type": "code",
   "execution_count": 13,
   "id": "57a02611-aea5-4759-8db9-66135bdd122d",
   "metadata": {
    "tags": []
   },
   "outputs": [
    {
     "name": "stdout",
     "output_type": "stream",
     "text": [
      "Time Taken:  198.1214702129364\n"
     ]
    }
   ],
   "source": [
    "from qiskit_algorithms.optimizers import SLSQP, P_BFGS, NELDER_MEAD\n",
    "import time\n",
    "start = time.time()\n",
    "test = vqe(n_qubits,\n",
    "           observable=hamiltonian,\n",
    "           depth=1,\n",
    "           optimizer=SLSQP,\n",
    "           max_steps=10,\n",
    "           init_param=None)\n",
    "'''\n",
    "testt = separat_vqe(\n",
    "    n_qubits,\n",
    "    observable=hamiltonian,\n",
    "    depth=2,\n",
    "    optimizer=SLSQP,\n",
    "    max_steps=100,\n",
    "    separat_steps=20,\n",
    "    init_param=None)\n",
    "'''\n",
    "end = time.time()\n",
    "print(\"Time Taken: \", end-start)"
   ]
  },
  {
   "cell_type": "code",
   "execution_count": 14,
   "id": "d5396fad-1fb7-4999-8230-00ea62b6f06c",
   "metadata": {
    "tags": []
   },
   "outputs": [
    {
     "data": {
      "text/plain": [
       "-3.944999999999999"
      ]
     },
     "execution_count": 14,
     "metadata": {},
     "output_type": "execute_result"
    }
   ],
   "source": [
    "test.fun"
   ]
  }
 ],
 "metadata": {
  "kernelspec": {
   "display_name": "conda_braket",
   "language": "python",
   "name": "conda_braket"
  },
  "language_info": {
   "codemirror_mode": {
    "name": "ipython",
    "version": 3
   },
   "file_extension": ".py",
   "mimetype": "text/x-python",
   "name": "python",
   "nbconvert_exporter": "python",
   "pygments_lexer": "ipython3",
   "version": "3.10.14"
  }
 },
 "nbformat": 4,
 "nbformat_minor": 5
}
